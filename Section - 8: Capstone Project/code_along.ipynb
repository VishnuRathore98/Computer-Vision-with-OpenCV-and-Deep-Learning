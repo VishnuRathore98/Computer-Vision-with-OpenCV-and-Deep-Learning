{
 "cells": [
  {
   "cell_type": "code",
   "execution_count": 1,
   "metadata": {},
   "outputs": [],
   "source": [
    "import numpy as np\n",
    "import cv2\n",
    "from sklearn.metrics import pairwise"
   ]
  },
  {
   "cell_type": "code",
   "execution_count": 2,
   "metadata": {},
   "outputs": [],
   "source": [
    "# Global variables\n",
    "\n",
    "background = None\n",
    "accumulated_weight = 0.5\n",
    "\n",
    "roi_top    = 20\n",
    "roi_bottom = 300\n",
    "roi_left   = 600\n",
    "roi_right  = 300"
   ]
  },
  {
   "cell_type": "code",
   "execution_count": 3,
   "metadata": {},
   "outputs": [],
   "source": [
    "# Finding average background values\n",
    "def calc_accum_avg(frame, accumulated_weight):\n",
    "    \n",
    "    global background\n",
    "\n",
    "    if background == None:\n",
    "        background = frame.copy().astype('float')\n",
    "        return None\n",
    "    \n",
    "    cv2.accumulateWeighted(frame,background,accumulated_weight)"
   ]
  },
  {
   "cell_type": "code",
   "execution_count": 4,
   "metadata": {},
   "outputs": [],
   "source": [
    "# Segmentation of hand\n",
    "\n",
    "from numpy import imag\n",
    "\n",
    "\n",
    "def segment(frame, threshold_min=25):\n",
    "    global background\n",
    "\n",
    "    diff = cv2.absdiff(background.astype(\"uint8\"),frame)\n",
    "\n",
    "    _, thresholded = cv2.threshold(diff, threshold_min,255,cv2.THRESH_BINARY)\n",
    "\n",
    "    img, contours = cv2.findContours(thresholded.copy(),cv2.RETR_EXTERNAL,cv2.CHAIN_APPROX_SIMPLE)\n",
    "\n",
    "    if len(contours) == 0:\n",
    "        return None\n",
    "    else: \n",
    "        hand_segment = max(contours,key=cv2.contourArea)\n",
    "        return (hand_segment,contours)"
   ]
  },
  {
   "cell_type": "code",
   "execution_count": null,
   "metadata": {},
   "outputs": [],
   "source": [
    "# Fingers counting and convex hull\n",
    "\n"
   ]
  }
 ],
 "metadata": {
  "kernelspec": {
   "display_name": "Python 3",
   "language": "python",
   "name": "python3"
  },
  "language_info": {
   "codemirror_mode": {
    "name": "ipython",
    "version": 3
   },
   "file_extension": ".py",
   "mimetype": "text/x-python",
   "name": "python",
   "nbconvert_exporter": "python",
   "pygments_lexer": "ipython3",
   "version": "3.10.12"
  }
 },
 "nbformat": 4,
 "nbformat_minor": 2
}
